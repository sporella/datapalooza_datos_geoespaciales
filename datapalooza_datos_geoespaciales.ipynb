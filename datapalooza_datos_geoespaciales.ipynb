{
  "nbformat": 4,
  "nbformat_minor": 0,
  "metadata": {
    "colab": {
      "provenance": [],
      "authorship_tag": "ABX9TyPehjrU8gvCVIHRXK17T2Qf",
      "include_colab_link": true
    },
    "kernelspec": {
      "name": "python3",
      "display_name": "Python 3"
    },
    "language_info": {
      "name": "python"
    }
  },
  "cells": [
    {
      "cell_type": "markdown",
      "metadata": {
        "id": "view-in-github",
        "colab_type": "text"
      },
      "source": [
        "<a href=\"https://colab.research.google.com/github/sporella/datapalooza_datos_geoespaciales/blob/main/datapalooza_datos_geoespaciales.ipynb\" target=\"_parent\"><img src=\"https://colab.research.google.com/assets/colab-badge.svg\" alt=\"Open In Colab\"/></a>"
      ]
    },
    {
      "cell_type": "markdown",
      "source": [
        "# Introducción al análisis de datos geoespaciales con Python (Vectores)"
      ],
      "metadata": {
        "id": "KlsB7tiwE0SY"
      }
    },
    {
      "cell_type": "markdown",
      "source": [
        "## Paquetes requeridos\n",
        "\n",
        "Google Colab posee una serie de paquetes ya instalados que tienen relación principalmente con ciencia de datos. Para hacer análisis más específicos, como por ejemplo, sobre datos geoespaciales, tenemos que instalar otros paquetes.\n",
        "\n",
        "En Python instalamos nuevos paquetes con el gestor `pip` en la línea de comandos o terminal. En este caso, debemos anteponer con signo `!` para decirle a Google Colab que este no es un código python sino que de terminal. En versiones nuevas de Google Colab esto no es necesario, pero es una buena práctica para separar las instrucciones de diferentes lenguajes.\n",
        "\n",
        "Instalaremos `geopandas` y `mapclassify`"
      ],
      "metadata": {
        "id": "66qOCrqwFBvu"
      }
    },
    {
      "cell_type": "code",
      "source": [
        "! pip install geopandas mapclassify"
      ],
      "metadata": {
        "id": "wBpgG5iZZF1T"
      },
      "execution_count": null,
      "outputs": []
    },
    {
      "cell_type": "markdown",
      "source": [
        "## Importar paquetes\n",
        "\n",
        "Para que las funciones contenidas en los paquetes que queremos utilizar estén disponibles, tenemos que importarlas. En Python normalmente se usan alias para acortar los nombres.\n",
        "\n",
        "En este caso cargaremos `pandas`cuyo alias es `pd` y `geopandas` cuyo alias es `gpd`."
      ],
      "metadata": {
        "id": "-QDVuWZZF0sD"
      }
    },
    {
      "cell_type": "markdown",
      "source": [],
      "metadata": {
        "id": "exDppNN_GvPV"
      }
    },
    {
      "cell_type": "code",
      "source": [
        "import pandas as pd\n",
        "import geopandas as gpd"
      ],
      "metadata": {
        "id": "coKeuu-jZH-N"
      },
      "execution_count": 3,
      "outputs": []
    },
    {
      "cell_type": "markdown",
      "source": [
        "## Cargar diferentes tipos de datos geoespaciales\n",
        "\n",
        "Geopandas posee la función `read_file()` que permite importar los tipos más comunes de datos vectoriales, tales como:\n",
        "\n",
        "- shapefile\n",
        "\n",
        "- geojson\n",
        "\n",
        "- json\n",
        "\n",
        "También podemos cargar archivos desde urls."
      ],
      "metadata": {
        "id": "kKPjRmEDGYgj"
      }
    },
    {
      "cell_type": "code",
      "source": [],
      "metadata": {
        "id": "K5nQaJfOfHWv"
      },
      "execution_count": 5,
      "outputs": []
    },
    {
      "cell_type": "code",
      "source": [],
      "metadata": {
        "id": "1AJm_pTDjoFa"
      },
      "execution_count": 6,
      "outputs": []
    },
    {
      "cell_type": "markdown",
      "source": [
        "## Verificar sistemas de proyección\n",
        "\n",
        "Con geopandas podemos verificar el sistema de proyección en que se encuentra un set de datos con el método `crs`."
      ],
      "metadata": {
        "id": "yE382nYwH6FY"
      }
    },
    {
      "cell_type": "code",
      "source": [],
      "metadata": {
        "id": "X2nK7Iu4IJsf"
      },
      "execution_count": null,
      "outputs": []
    },
    {
      "cell_type": "markdown",
      "source": [
        "## Cargar datos desde csv\n",
        "\n",
        "Para leer archivos csv con coordenadas debemos cargar el csv con pandas y generar la geometría con la función `points_from_xy()`.\n",
        "\n",
        "Luego con `GeoDataFrame()` unimos todo.\n",
        "\n",
        "¡No olvidar el sistema de proyección!"
      ],
      "metadata": {
        "id": "rsMVvjOGLxPx"
      }
    },
    {
      "cell_type": "code",
      "source": [],
      "metadata": {
        "id": "cLkE37B5Jdcm"
      },
      "execution_count": null,
      "outputs": []
    },
    {
      "cell_type": "markdown",
      "source": [
        "## Transformación entre sistemas de coordenadas\n",
        "\n",
        "Podemos transformar entre sistemas de coordenadas con la función `to_crs()`\n",
        "y utilizando el epsg del sistema de coordenadas de destino."
      ],
      "metadata": {
        "id": "Rv_jw9mDIWMa"
      }
    },
    {
      "cell_type": "code",
      "source": [],
      "metadata": {
        "id": "NtG2yQL-kTDG"
      },
      "execution_count": null,
      "outputs": []
    },
    {
      "cell_type": "markdown",
      "source": [
        "## Uniones espaciales\n",
        "\n",
        "Podemos realizar la unión espacial de dos set de datos utilizando la función `sjoin()`.\n",
        "\n",
        "Es importante tener en consideración:\n",
        "\n",
        "- Corroborar que ambos set de datos estén en el mismo sistema de proyección\n",
        "\n",
        "- Seleccionar las geometrías en ambos set de datos\n",
        "\n",
        "- La geometría que prima es la del set de datos de la izquierda"
      ],
      "metadata": {
        "id": "cWJxcu-mMkCW"
      }
    },
    {
      "cell_type": "code",
      "source": [],
      "metadata": {
        "id": "-CW7QPibkn6J"
      },
      "execution_count": null,
      "outputs": []
    },
    {
      "cell_type": "markdown",
      "source": [
        "# Trabajo con tablas de atributos\n",
        "\n",
        "Todas las operaciones y selecciones que existen en pandas pueden ser aplicadas a un `GeoDataFrame`, sin embargo, cuando se realiza una operación de resumen, la geometría no se conserva."
      ],
      "metadata": {
        "id": "lkH8zXljEvIp"
      }
    },
    {
      "cell_type": "markdown",
      "source": [
        "### Subset y selecciones básicas"
      ],
      "metadata": {
        "id": "DsZkDYzzkQIQ"
      }
    },
    {
      "cell_type": "code",
      "source": [],
      "metadata": {
        "id": "wAkdhLsVkPhr"
      },
      "execution_count": null,
      "outputs": []
    },
    {
      "cell_type": "markdown",
      "source": [
        "### Agregación\n",
        "\n",
        "Vamos a contar cuántas paradas hay en cada comuna"
      ],
      "metadata": {
        "id": "9k9M1ypSl1Yb"
      }
    },
    {
      "cell_type": "code",
      "source": [],
      "metadata": {
        "id": "zYdlFb4hknx7"
      },
      "execution_count": null,
      "outputs": []
    },
    {
      "cell_type": "markdown",
      "source": [
        "### Unión de datasets con merge()\n",
        "\n",
        "Podemos unir nuestros resultados al GeoDataFrame con la función `merge()`\n",
        "\n"
      ],
      "metadata": {
        "id": "kT_DVgV2mCzN"
      }
    },
    {
      "cell_type": "code",
      "source": [],
      "metadata": {
        "id": "FbFTwyUsnd3d"
      },
      "execution_count": null,
      "outputs": []
    },
    {
      "cell_type": "markdown",
      "source": [
        "## Ejercicio\n",
        "\n",
        "Buscaremos el monumento nacional que posee más paradas de transporte público en un radio de 200 m."
      ],
      "metadata": {
        "id": "NaNkfAfF0Djv"
      }
    }
  ]
}